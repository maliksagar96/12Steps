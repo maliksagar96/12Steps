{
 "cells": [
  {
   "cell_type": "code",
   "execution_count": 1,
   "id": "e5adab73",
   "metadata": {},
   "outputs": [],
   "source": [
    "import numpy as np\n",
    "import matplotlib.pyplot as plt\n",
    "import matplotlib.animation as animation"
   ]
  },
  {
   "cell_type": "code",
   "execution_count": 2,
   "id": "1800cad4",
   "metadata": {},
   "outputs": [],
   "source": [
    "#x is from 0 to 2 divided in nx number of intervals\n",
    "\n",
    "nx = 501  # Example value\n",
    "nt = 500\n",
    "dt = 0.005\n",
    "c = 0.5\n",
    "dx = 2/(nx-1)\n",
    "u = np.ones(nx)  # Initialize all values to 0"
   ]
  },
  {
   "cell_type": "code",
   "execution_count": 3,
   "id": "40778fe5",
   "metadata": {},
   "outputs": [],
   "source": [
    "#setting up initial condition\n",
    "# u[nx // 4 : nx // 2] = 2  # 25% to 50% set to 2\n",
    "\n",
    "# start = nx // 4\n",
    "# end = nx // 2\n",
    "\n",
    "# Create smooth sine from 0 to π over that region\n",
    "# u[start:end] = 1 + np.sin(np.linspace(0, np.pi, end - start))\n",
    "# u\n",
    "\n",
    "x = np.linspace(0, 1, nx)  # domain from 0 to 1\n",
    "u = np.exp(-((x - 0.5)**2) / (2 * 0.05**2)) "
   ]
  },
  {
   "cell_type": "code",
   "execution_count": 4,
   "id": "864280b7",
   "metadata": {},
   "outputs": [
    {
     "data": {
      "text/plain": [
       "[<matplotlib.lines.Line2D at 0x755fb35abc40>]"
      ]
     },
     "execution_count": 4,
     "metadata": {},
     "output_type": "execute_result"
    },
    {
     "data": {
      "image/png": "[encoded data removed]",
      "text/plain": [
       "<Figure size 432x288 with 1 Axes>"
      ]
     },
     "metadata": {
      "needs_background": "light"
     },
     "output_type": "display_data"
    }
   ],
   "source": [
    "plt.plot(np.linspace(0, 2, nx), u)"
   ]
  },
  {
   "cell_type": "code",
   "execution_count": 5,
   "id": "0cc7255d",
   "metadata": {},
   "outputs": [],
   "source": [
    "# plt.ion()  \n",
    "# x = np.linspace(0, 2, nx)\n",
    "# fig, ax = plt.subplots()\n",
    "# line, = ax.plot(x, u)  \n",
    "\n",
    "# for j in range(nt):\n",
    "#     un = u.copy()\n",
    "#     for i in range(1, nx):\n",
    "#         u[i] = un[i] - c * dt * (un[i] - un[i-1]) / dx\n",
    "    \n",
    "#     # Plot and save each frame\n",
    "#     plt.figure(figsize=(6,4))\n",
    "#     plt.plot(x, u, label=f'Time step {j+1}')\n",
    "#     plt.xlabel('x')\n",
    "#     plt.ylabel('u')\n",
    "#     plt.ylim(0, 2.5)    \n",
    "#     plt.title(f'Time Step {j+1}')\n",
    "    \n",
    "#     filename = f\"images/image_{j+1:04d}.jpg\"  # image_0001.jpg, image_0002.jpg, etc.\n",
    "#     plt.savefig(filename)\n",
    "#     plt.close()  # Close the figure to free memory\n"
   ]
  },
  {
   "cell_type": "code",
   "execution_count": 6,
   "id": "e82accf4",
   "metadata": {},
   "outputs": [
    {
     "data": {
      "image/png": "[encoded data removed]",
      "text/plain": [
       "<Figure size 432x288 with 1 Axes>"
      ]
     },
     "metadata": {
      "needs_background": "light"
     },
     "output_type": "display_data"
    }
   ],
   "source": [
    "plt.ion()  \n",
    "x = np.linspace(0, 2, nx)\n",
    "fig, ax = plt.subplots()\n",
    "line, = ax.plot(x, u)  \n",
    "\n",
    "for j in range(nt):\n",
    "    un = u.copy()\n",
    "    for i in range(1, nx-1):  # Avoid out-of-bounds indexing\n",
    "        u[i] = un[i] - c * dt * (un[i+1] - un[i-1]) / (2*dx)\n",
    "    \n",
    "# for j in range(nt):\n",
    "#     un = u.copy()\n",
    "#     for i in range(1, nx-1):\n",
    "#         u[i] = 0.5 * (un[i+1] + un[i-1]) - c * dt * (un[i+1] - un[i-1]) / (2.0 * dx)\n",
    "    \n",
    "#     # Boundary conditions\n",
    "#     u[0] = 0.0\n",
    "#     u[-1] = 0.0\n",
    "    \n",
    "# for j in range(nt):\n",
    "#     un = u.copy()\n",
    "#     # Predictor step\n",
    "#     for i in range(0, nx-1):\n",
    "#         u[i] = un[i] - c * dt * (un[i+1] - un[i]) / dx\n",
    "#     up = u.copy()\n",
    "#     # Corrector step\n",
    "#     for i in range(1, nx):\n",
    "#         u[i] = 0.5 * (un[i] + up[i] - c * dt * (up[i] - up[i-1]) / dx)\n",
    "    \n",
    "    \n",
    "    # Plot and save each frame\n",
    "    plt.figure(figsize=(6,4))\n",
    "    plt.plot(x, u, label=f'Time step {j+1}')\n",
    "    plt.xlabel('x')\n",
    "    plt.ylabel('u')\n",
    "    plt.ylim(0, 2.5)    \n",
    "    plt.title(f'Time Step {j+1}')\n",
    "    \n",
    "    filename = f\"images/image_{j+1:04d}.jpg\"  # image_0001.jpg, image_0002.jpg, etc.\n",
    "    plt.savefig(filename)\n",
    "    plt.close()  # Close the figure to free memory\n"
   ]
  },
  {
   "cell_type": "code",
   "execution_count": 7,
   "id": "ad61fca4",
   "metadata": {},
   "outputs": [
    {
     "data": {
      "text/plain": [
       "[<matplotlib.lines.Line2D at 0x755f78e2ffd0>]"
      ]
     },
     "execution_count": 7,
     "metadata": {},
     "output_type": "execute_result"
    },
    {
     "data": {
      "image/png": "[encoded data removed]",
      "text/plain": [
       "<Figure size 432x288 with 1 Axes>"
      ]
     },
     "metadata": {
      "needs_background": "light"
     },
     "output_type": "display_data"
    }
   ],
   "source": [
    "plt.plot(np.linspace(0, 2, nx), u)"
   ]
  },
  {
   "cell_type": "code",
   "execution_count": null,
   "id": "a8f8b845",
   "metadata": {},
   "outputs": [],
   "source": []
  },
  {
   "cell_type": "code",
   "execution_count": null,
   "id": "2b59593c",
   "metadata": {},
   "outputs": [],
   "source": []
  }
 ],
 "metadata": {
  "kernelspec": {
   "display_name": "Python 3 (ipykernel)",
   "language": "python",
   "name": "python3"
  },
  "language_info": {
   "codemirror_mode": {
    "name": "ipython",
    "version": 3
   },
   "file_extension": ".py",
   "mimetype": "text/x-python",
   "name": "python",
   "nbconvert_exporter": "python",
   "pygments_lexer": "ipython3",
   "version": "3.10.12"
  }
 },
 "nbformat": 4,
 "nbformat_minor": 5
}
