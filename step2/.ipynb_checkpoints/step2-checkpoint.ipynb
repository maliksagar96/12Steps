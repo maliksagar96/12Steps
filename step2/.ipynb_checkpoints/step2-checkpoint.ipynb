{
 "cells": [
  {
   "cell_type": "code",
   "execution_count": 1,
   "id": "e5adab73",
   "metadata": {},
   "outputs": [],
   "source": [
    "import numpy as np\n",
    "import matplotlib.pyplot as plt\n",
    "import matplotlib.animation as animation"
   ]
  },
  {
   "cell_type": "code",
   "execution_count": 2,
   "id": "1800cad4",
   "metadata": {},
   "outputs": [],
   "source": [
    "#x is from 0 to 2 divided in nx number of intervals\n",
    "\n",
    "nx = 41  # Example value\n",
    "nt = 25\n",
    "dt = 0.025\n",
    "c = 1\n",
    "dx = 2/(nx-1)\n",
    "u = np.ones(nx)  # Initialize all values to 0"
   ]
  },
  {
   "cell_type": "code",
   "execution_count": 3,
   "id": "40778fe5",
   "metadata": {},
   "outputs": [
    {
     "data": {
      "text/plain": [
       "array([1., 1., 1., 1., 1., 1., 1., 1., 1., 1., 2., 2., 2., 2., 2., 2., 2.,\n",
       "       2., 2., 2., 1., 1., 1., 1., 1., 1., 1., 1., 1., 1., 1., 1., 1., 1.,\n",
       "       1., 1., 1., 1., 1., 1., 1.])"
      ]
     },
     "execution_count": 3,
     "metadata": {},
     "output_type": "execute_result"
    }
   ],
   "source": [
    "#setting up initial condition\n",
    "u[nx // 4 : nx // 2] = 2  # 25% to 50% set to 2\n",
    "print(u)\n",
    "u"
   ]
  },
  {
   "cell_type": "code",
   "execution_count": 4,
   "id": "864280b7",
   "metadata": {},
   "outputs": [
    {
     "data": {
      "text/plain": [
       "[<matplotlib.lines.Line2D at 0x743c23fc3ac0>]"
      ]
     },
     "execution_count": 4,
     "metadata": {},
     "output_type": "execute_result"
    },
    {
     "data": {
      "image/png": "[encoded data removed]",
      "text/plain": [
       "<Figure size 432x288 with 1 Axes>"
      ]
     },
     "metadata": {
      "needs_background": "light"
     },
     "output_type": "display_data"
    }
   ],
   "source": [
    "plt.plot(np.linspace(0, 2, nx), u)"
   ]
  },
  {
   "cell_type": "code",
   "execution_count": 5,
   "id": "0cc7255d",
   "metadata": {},
   "outputs": [
    {
     "data": {
      "image/png": "[encoded data removed]",
      "text/plain": [
       "<Figure size 432x288 with 1 Axes>"
      ]
     },
     "metadata": {
      "needs_background": "light"
     },
     "output_type": "display_data"
    }
   ],
   "source": [
    "plt.ion()  \n",
    "x = np.linspace(0, 2, nx)\n",
    "fig, ax = plt.subplots()\n",
    "line, = ax.plot(x, u)  \n",
    "\n",
    "for j in range(nt):\n",
    "    un = u.copy()\n",
    "    for i in range(1, nx):\n",
    "        u[i] = un[i] - u[i] * dt * (un[i] - un[i-1]) / dx\n",
    "    \n",
    "    # Plot and save each frame\n",
    "    plt.figure(figsize=(6,4))\n",
    "    plt.plot(x, u, label=f'Time step {j+1}')\n",
    "    plt.xlabel('x')\n",
    "    plt.ylabel('u')\n",
    "    plt.ylim(0, 2.5)    \n",
    "    plt.title(f'Time Step {j+1}')\n",
    "    \n",
    "    filename = f\"images/image_{j+1:04d}.jpg\"  # image_0001.jpg, image_0002.jpg, etc.\n",
    "    plt.savefig(filename)\n",
    "    plt.close()  # Close the figure to free memory\n"
   ]
  },
  {
   "cell_type": "code",
   "execution_count": 6,
   "id": "ad61fca4",
   "metadata": {},
   "outputs": [
    {
     "data": {
      "text/plain": [
       "[<matplotlib.lines.Line2D at 0x743c16d36c50>]"
      ]
     },
     "execution_count": 6,
     "metadata": {},
     "output_type": "execute_result"
    },
    {
     "data": {
      "image/png": "[encoded data removed]",
      "text/plain": [
       "<Figure size 432x288 with 1 Axes>"
      ]
     },
     "metadata": {
      "needs_background": "light"
     },
     "output_type": "display_data"
    }
   ],
   "source": [
    "plt.plot(np.linspace(0, 2, nx), u)"
   ]
  },
  {
   "cell_type": "code",
   "execution_count": null,
   "id": "a8f8b845",
   "metadata": {},
   "outputs": [],
   "source": []
  },
  {
   "cell_type": "code",
   "execution_count": null,
   "id": "2b59593c",
   "metadata": {},
   "outputs": [],
   "source": []
  }
 ],
 "metadata": {
  "kernelspec": {
   "display_name": "Python 3 (ipykernel)",
   "language": "python",
   "name": "python3"
  },
  "language_info": {
   "codemirror_mode": {
    "name": "ipython",
    "version": 3
   },
   "file_extension": ".py",
   "mimetype": "text/x-python",
   "name": "python",
   "nbconvert_exporter": "python",
   "pygments_lexer": "ipython3",
   "version": "3.10.12"
  }
 },
 "nbformat": 4,
 "nbformat_minor": 5
}
