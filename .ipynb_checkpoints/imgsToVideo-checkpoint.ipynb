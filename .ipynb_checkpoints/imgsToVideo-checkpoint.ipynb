{
 "cells": [
  {
   "cell_type": "code",
   "execution_count": 1,
   "id": "4ed9af17",
   "metadata": {},
   "outputs": [],
   "source": [
    "import cv2\n",
    "import glob"
   ]
  },
  {
   "cell_type": "code",
   "execution_count": 2,
   "id": "ad830620",
   "metadata": {},
   "outputs": [],
   "source": [
    "path = \"step3/images/\"\n",
    "img_files = sorted(glob.glob(path + \"image_*.jpg\"))  # Get all images in order\n",
    "frame = cv2.imread(img_files[0])\n",
    "h, w, _ = frame.shape\n",
    "\n",
    "fourcc = cv2.VideoWriter_fourcc(*'mp4v')  # Codec for .mp4\n",
    "video = cv2.VideoWriter(path + \"output.mp4\", fourcc, 10, (w, h))  # 10 FPS\n",
    "\n",
    "for img in img_files:\n",
    "    video.write(cv2.imread(img))\n",
    "\n",
    "video.release()\n",
    "cv2.destroyAllWindows()\n"
   ]
  }
 ],
 "metadata": {
  "kernelspec": {
   "display_name": "Python 3 (ipykernel)",
   "language": "python",
   "name": "python3"
  },
  "language_info": {
   "codemirror_mode": {
    "name": "ipython",
    "version": 3
   },
   "file_extension": ".py",
   "mimetype": "text/x-python",
   "name": "python",
   "nbconvert_exporter": "python",
   "pygments_lexer": "ipython3",
   "version": "3.10.12"
  }
 },
 "nbformat": 4,
 "nbformat_minor": 5
}
